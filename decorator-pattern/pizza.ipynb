{
 "cells": [
  {
   "cell_type": "code",
   "execution_count": 1,
   "id": "423d3d6e",
   "metadata": {},
   "outputs": [],
   "source": [
    "from abc import ABC, abstractmethod\n",
    "\n",
    "class Pizza(ABC):  # Inherit from ABC\n",
    "\n",
    "    @abstractmethod\n",
    "    def cost(self):  # Abstract method\n",
    "        pass"
   ]
  },
  {
   "cell_type": "code",
   "execution_count": 2,
   "id": "9017e049",
   "metadata": {},
   "outputs": [],
   "source": [
    "class MargheritaPizza(Pizza):\n",
    "    def cost(self):\n",
    "        return 100\n",
    "    "
   ]
  },
  {
   "cell_type": "code",
   "execution_count": 3,
   "id": "1e8abd37",
   "metadata": {},
   "outputs": [],
   "source": [
    "class VeggiePizza(Pizza):\n",
    "    def cost(self):\n",
    "        return 150"
   ]
  },
  {
   "cell_type": "code",
   "execution_count": 4,
   "id": "90a4ecb7",
   "metadata": {},
   "outputs": [],
   "source": [
    "class ToppingDecorator(Pizza, ABC):\n",
    "    pass"
   ]
  },
  {
   "cell_type": "code",
   "execution_count": null,
   "id": "dcbd51e9",
   "metadata": {},
   "outputs": [],
   "source": [
    "class ExtraCheese(ToppingDecorator):\n",
    "    def __init__(self, pizza: Pizza):\n",
    "        self._pizza = pizza\n",
    "\n",
    "    def cost(self):\n",
    "        return self._pizza.cost() + 20"
   ]
  },
  {
   "cell_type": "code",
   "execution_count": 6,
   "id": "28997f65",
   "metadata": {},
   "outputs": [],
   "source": [
    "class ExtraVeggies(ToppingDecorator):\n",
    "    def __init__(self, pizza: Pizza):\n",
    "        self._pizza = pizza\n",
    "\n",
    "    def cost(self):\n",
    "        return self._pizza.cost() + 10"
   ]
  },
  {
   "cell_type": "code",
   "execution_count": 7,
   "id": "6e35b294",
   "metadata": {},
   "outputs": [
    {
     "name": "stdout",
     "output_type": "stream",
     "text": [
      "120\n"
     ]
    }
   ],
   "source": [
    "margheritaPizza = MargheritaPizza()\n",
    "extraCheeseMargherita = ExtraCheese(margheritaPizza)\n",
    "print(extraCheeseMargherita.cost())"
   ]
  },
  {
   "cell_type": "code",
   "execution_count": null,
   "id": "30fe1a9d",
   "metadata": {},
   "outputs": [],
   "source": []
  }
 ],
 "metadata": {
  "kernelspec": {
   "display_name": "Python 3",
   "language": "python",
   "name": "python3"
  },
  "language_info": {
   "codemirror_mode": {
    "name": "ipython",
    "version": 3
   },
   "file_extension": ".py",
   "mimetype": "text/x-python",
   "name": "python",
   "nbconvert_exporter": "python",
   "pygments_lexer": "ipython3",
   "version": "3.12.1"
  }
 },
 "nbformat": 4,
 "nbformat_minor": 5
}
